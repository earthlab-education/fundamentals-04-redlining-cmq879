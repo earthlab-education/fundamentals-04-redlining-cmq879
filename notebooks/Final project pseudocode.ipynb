{
 "cells": [
  {
   "cell_type": "markdown",
   "metadata": {},
   "source": [
    "Pseudocode outline of final project notebook. \n"
   ]
  },
  {
   "cell_type": "code",
   "execution_count": null,
   "metadata": {},
   "outputs": [],
   "source": [
    "import re #parsing information out of filenames\n",
    "\n",
    "import geopandas as gpd #Work with vector data\n",
    "import pandas as pd #aggregate data\n",
    "\n",
    "import rioxarray as rxr #work with raster data\n",
    "from rioxarray.merge import merge_arrays # Merge rasters"
   ]
  },
  {
   "cell_type": "code",
   "execution_count": null,
   "metadata": {},
   "outputs": [],
   "source": [
    "#Set up a project directory"
   ]
  },
  {
   "cell_type": "code",
   "execution_count": null,
   "metadata": {},
   "outputs": [],
   "source": [
    "Define your study area:\n",
    "\n",
    "    * Download the USFS Natinoal Grassland Units\n",
    "    * Select your study sites"
   ]
  },
  {
   "cell_type": "code",
   "execution_count": null,
   "metadata": {},
   "outputs": [],
   "source": [
    "#Define the download URL for the study area\n",
    "#Define study area path /directory\n",
    "#output it to check it"
   ]
  },
  {
   "cell_type": "code",
   "execution_count": null,
   "metadata": {},
   "outputs": [],
   "source": [
    "#Try downloading from the URL\n",
    "# Only download once \n",
    "if not os.path.exists(study_area_path)\n",
    "    # download\n",
    "    # save it\n",
    "\n",
    "# Load the study area into memory\n",
    "\n",
    "#Quick plot for checking/visualizing data"
   ]
  },
  {
   "cell_type": "code",
   "execution_count": null,
   "metadata": {},
   "outputs": [],
   "source": [
    "#Select study area from the gpd file"
   ]
  },
  {
   "cell_type": "code",
   "execution_count": null,
   "metadata": {},
   "outputs": [],
   "source": [
    "# Soil data\n",
    "#Note the Polaris data are tiles (1deg x 1 deg)\n",
    "# Define the download URL template for the soil data\n",
    "\n",
    "#list soil files to Identify soil files \n",
    "\n",
    "    # Download sample raster data\n",
    "    response = requests.get(raster_url)\n",
    "\n",
    "    #Only download once. Unzip if compressed\n",
    "\n",
    "    #Load the raster data in Python, mask & scale + squeeze\n",
    "\n",
    "    # Make sure CRS matches between vecotr and raster data (but don't need to put it in the loop here)\n",
    "    .to_crs(4236)\n",
    "\n",
    "    #Crop the raster data\n",
    "    cropped_dat = ...\n",
    "\n",
    "    #Make a plot to check the download\n",
    "\n",
    "    output_da_list.append(cropped_da)\n",
    "\n",
    "#Merge tiles"
   ]
  },
  {
   "cell_type": "code",
   "execution_count": null,
   "metadata": {},
   "outputs": [],
   "source": [
    "a_list = [1, 2, 3, 4]\n",
    "squared_number_list = []\n",
    "for number in a_list:\n",
    "    print(number)\n",
    "    squared_number = number**2\n",
    "    squared_number_list.append(squared_number)\n",
    "\n",
    "squared_number_list"
   ]
  }
 ],
 "metadata": {
  "kernelspec": {
   "display_name": "earth-analytics-python",
   "language": "python",
   "name": "python3"
  },
  "language_info": {
   "name": "python",
   "version": "3.11.10"
  }
 },
 "nbformat": 4,
 "nbformat_minor": 2
}
