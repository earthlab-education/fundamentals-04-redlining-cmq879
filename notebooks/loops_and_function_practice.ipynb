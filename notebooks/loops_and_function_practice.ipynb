{
 "cells": [
  {
   "cell_type": "code",
   "execution_count": 1,
   "metadata": {},
   "outputs": [
    {
     "name": "stdout",
     "output_type": "stream",
     "text": [
      "[1, 2, 3, 4]\n"
     ]
    }
   ],
   "source": [
    "list_of_values = [1, 2, 3, 4]\n",
    "print(list_of_values)"
   ]
  },
  {
   "cell_type": "code",
   "execution_count": 3,
   "metadata": {},
   "outputs": [
    {
     "name": "stdout",
     "output_type": "stream",
     "text": [
      "1\n",
      "2\n",
      "3\n",
      "4\n"
     ]
    }
   ],
   "source": [
    "for avalue in list_of_values:\n",
    "    print(avalue)"
   ]
  },
  {
   "cell_type": "code",
   "execution_count": 4,
   "metadata": {},
   "outputs": [
    {
     "name": "stdout",
     "output_type": "stream",
     "text": [
      "the current value is 1\n",
      "the current value is 2\n",
      "the current value is 3\n",
      "the current value is 4\n"
     ]
    }
   ],
   "source": [
    "for avalue in list_of_values:\n",
    "        print(\"the current value is\", avalue)"
   ]
  },
  {
   "cell_type": "code",
   "execution_count": 5,
   "metadata": {},
   "outputs": [
    {
     "name": "stdout",
     "output_type": "stream",
     "text": [
      "22\n",
      "15\n",
      "146\n",
      "57\n"
     ]
    }
   ],
   "source": [
    "#list of integers\n",
    "num_list = [12, 5, 136, 47]\n",
    "\n",
    "#for each item, add 10 and print\n",
    "for i in num_list:\n",
    "    n = i + 10\n",
    "    print(n)"
   ]
  },
  {
   "cell_type": "code",
   "execution_count": 7,
   "metadata": {},
   "outputs": [
    {
     "data": {
      "text/plain": [
       "[22, 15, 146, 57]"
      ]
     },
     "execution_count": 7,
     "metadata": {},
     "output_type": "execute_result"
    }
   ],
   "source": [
    "#create an empty list\n",
    "new_list = []\n",
    "\n",
    "for i in num_list:\n",
    "        new_list.append(i + 10)\n",
    "\n",
    "new_list"
   ]
  },
  {
   "cell_type": "code",
   "execution_count": 10,
   "metadata": {},
   "outputs": [],
   "source": [
    "import numpy as np"
   ]
  },
  {
   "cell_type": "code",
   "execution_count": 12,
   "metadata": {},
   "outputs": [
    {
     "data": {
      "text/plain": [
       "array([[1, 2, 3],\n",
       "       [4, 5, 6],\n",
       "       [7, 8, 9]])"
      ]
     },
     "execution_count": 12,
     "metadata": {},
     "output_type": "execute_result"
    }
   ],
   "source": [
    "newdata = np.array([[1, 2, 3],\n",
    "                   [4, 5, 6],\n",
    "                   [7, 8, 9]])\n",
    "newdata"
   ]
  },
  {
   "cell_type": "markdown",
   "metadata": {},
   "source": [
    "## Functions"
   ]
  },
  {
   "cell_type": "code",
   "execution_count": null,
   "metadata": {},
   "outputs": [],
   "source": [
    "def function_name(parameter):\n",
    "    <code>\n",
    "    return output"
   ]
  },
  {
   "cell_type": "code",
   "execution_count": 13,
   "metadata": {},
   "outputs": [
    {
     "data": {
      "text/plain": [
       "1.1811023622047245"
      ]
     },
     "execution_count": 13,
     "metadata": {},
     "output_type": "execute_result"
    }
   ],
   "source": [
    "#convert input from mm to inches\n",
    "def mm_to_in(mm):\n",
    "\n",
    "    \"\"\"Convert values from millimeteres to inches \"\"\"\n",
    "    inches = mm / 25.4\n",
    "    return inches\n",
    "#test it\n",
    "mm_to_in(mm = 30)"
   ]
  },
  {
   "cell_type": "code",
   "execution_count": 14,
   "metadata": {},
   "outputs": [
    {
     "data": {
      "text/plain": [
       "array([0.7       , 0.75      , 1.85      , 2.92992126, 3.05      ,\n",
       "       2.02007874, 1.92992126, 1.62007874, 1.84015748, 1.30984252,\n",
       "       1.39015748, 0.84015748])"
      ]
     },
     "execution_count": 14,
     "metadata": {},
     "output_type": "execute_result"
    }
   ],
   "source": [
    "#apply a function to numpy array\n",
    "avg_monthly_precip_mm = np.array([17.78, 19.05, 46.99, 74.42, 77.47, 51.31, 49.02, 41.15, 46.74, 33.27, 35.31, 21.34])\n",
    "\n",
    "#convert to inches\n",
    "avg_monthly_precip_in = mm_to_in(mm = avg_monthly_precip_mm)\n",
    "avg_monthly_precip_in"
   ]
  },
  {
   "cell_type": "code",
   "execution_count": 16,
   "metadata": {},
   "outputs": [
    {
     "data": {
      "text/plain": [
       "6"
      ]
     },
     "execution_count": 16,
     "metadata": {},
     "output_type": "execute_result"
    }
   ],
   "source": [
    "# Using more than 1 input parameter to a function\n",
    "\n",
    "def multiply_values(x, y):\n",
    "    z = x * y\n",
    "    return z\n",
    "\n",
    "multiply_values(x=2, y=3)"
   ]
  },
  {
   "cell_type": "code",
   "execution_count": null,
   "metadata": {},
   "outputs": [],
   "source": [
    " #function to calculate the volume of a pyramid\n",
    " # V = 1/3 * base * height\n",
    "    \"\"\" \n",
    "    Calculates the volume of a pyramid\n",
    "    \n",
    "    \"\"\"\n",
    "volume = (1/3) * base_area * height\n",
    "\n",
    "return"
   ]
  },
  {
   "cell_type": "markdown",
   "metadata": {},
   "source": [
    "## Combine Loops & Functions"
   ]
  },
  {
   "cell_type": "code",
   "execution_count": 17,
   "metadata": {},
   "outputs": [
    {
     "name": "stdout",
     "output_type": "stream",
     "text": [
      "1\n",
      "4\n",
      "9\n",
      "16\n",
      "25\n"
     ]
    },
    {
     "data": {
      "text/plain": [
       "[1, 4, 9, 16, 25]"
      ]
     },
     "execution_count": 17,
     "metadata": {},
     "output_type": "execute_result"
    }
   ],
   "source": [
    "# Function contained within a loop\n",
    "\n",
    "# First define the function\n",
    "def calculate_square(number):\n",
    "    \"\"\" Returns the square of a number\n",
    "    \"\"\"\n",
    "    return number ** 2\n",
    "\n",
    "#Create list of numbers for trial dataset\n",
    "numbers_list = [1,2,3,4,5]\n",
    "squared_numbers_list = []\n",
    "\n",
    "for i in numbers_list:\n",
    "    square_num = calculate_square(i)\n",
    "    print(square_num)\n",
    "    squared_numbers_list.append(square_num)\n",
    "\n",
    "squared_numbers_list\n",
    "\n"
   ]
  }
 ],
 "metadata": {
  "kernelspec": {
   "display_name": "earth-analytics-python",
   "language": "python",
   "name": "python3"
  },
  "language_info": {
   "codemirror_mode": {
    "name": "ipython",
    "version": 3
   },
   "file_extension": ".py",
   "mimetype": "text/x-python",
   "name": "python",
   "nbconvert_exporter": "python",
   "pygments_lexer": "ipython3",
   "version": "3.11.10"
  }
 },
 "nbformat": 4,
 "nbformat_minor": 2
}
